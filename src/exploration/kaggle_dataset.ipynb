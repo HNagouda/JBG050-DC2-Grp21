{
 "cells": [
  {
   "cell_type": "code",
   "execution_count": 1,
   "metadata": {},
   "outputs": [],
   "source": [
    "import pandas as pd\n",
    "import geopandas as gpd\n",
    "import numpy as np\n",
    "import matplotlib.pyplot as plt"
   ]
  },
  {
   "cell_type": "markdown",
   "metadata": {},
   "source": [
    "# Make crime df for 2014 - 2024"
   ]
  },
  {
   "cell_type": "code",
   "execution_count": 2,
   "metadata": {},
   "outputs": [],
   "source": [
    "kaggle_df = pd.read_csv('data/UK_Police_Street_Crime_2018-10-01_to_2021_09_31.csv')\n",
    "crime_df = pd.read_csv('data/curated_data/crime.csv')\n",
    "crime_cols = crime_df.columns\n",
    "kaggle_df = kaggle_df[crime_cols]\n",
    "kaggle_df = kaggle_df[kaggle_df['Reported by'] == 'Metropolitan Police Service']"
   ]
  },
  {
   "cell_type": "code",
   "execution_count": 14,
   "metadata": {},
   "outputs": [],
   "source": [
    "data2021_2023 = pd.read_csv('data/curated_data/crime.csv')\n",
    "data2018_2021 = kaggle_df\n",
    "data2014_2017 = pd.read_csv('data/archive 3/london-street.csv')"
   ]
  },
  {
   "cell_type": "code",
   "execution_count": 19,
   "metadata": {},
   "outputs": [
    {
     "name": "stderr",
     "output_type": "stream",
     "text": [
      "/var/folders/vw/rm1q12851jq6ww7xsgf4g0x00000gn/T/ipykernel_88969/2833359830.py:1: FutureWarning: The frame.append method is deprecated and will be removed from pandas in a future version. Use pandas.concat instead.\n",
      "  crimes_total = data2021_2023.append(data2018_2021).append(data2014_2017)\n",
      "/var/folders/vw/rm1q12851jq6ww7xsgf4g0x00000gn/T/ipykernel_88969/2833359830.py:1: FutureWarning: The frame.append method is deprecated and will be removed from pandas in a future version. Use pandas.concat instead.\n",
      "  crimes_total = data2021_2023.append(data2018_2021).append(data2014_2017)\n"
     ]
    }
   ],
   "source": [
    "crimes_total = data2021_2023.append(data2018_2021).append(data2014_2017)\n",
    "crimes_total['year'] = crimes_total['Month'].apply(lambda x: int(x.split('-')[0]))\n",
    "crimes_total['month'] = crimes_total['Month'].apply(lambda x: int(x.split('-')[1]))\n",
    "crimes_total.drop(columns=['Month', 'Longitude', 'Latitude', 'Context'], inplace=True)\n",
    "crimes_total = crimes_total[crimes_total['Reported by'] == 'Metropolitan Police Service']"
   ]
  },
  {
   "cell_type": "markdown",
   "metadata": {},
   "source": [
    "# Make outcomes df for 2014 - 2024"
   ]
  },
  {
   "cell_type": "code",
   "execution_count": 43,
   "metadata": {},
   "outputs": [],
   "source": [
    "outcomes21_23 = pd.read_csv('data/curated_data/outcome.csv')\n",
    "outcomes14_17 = pd.read_csv('data/archive 3/london-outcomes.csv')\n",
    "outcomes_total = outcomes21_23.append(outcomes14_17)\n",
    "outcomes_total['year'] = outcomes_total['Month'].apply(lambda x: int(x.split('-')[0]))\n",
    "outcomes_total['month'] = outcomes_total['Month'].apply(lambda x: int(x.split('-')[1]))\n",
    "outcomes_total.drop(columns=['Month'], inplace=True)\n",
    "outcomes_total = outcomes_total[outcomes_total['Reported by'] == 'Metropolitan Police Service']"
   ]
  },
  {
   "cell_type": "markdown",
   "metadata": {},
   "source": [
    "# Merge crimes and outcomes"
   ]
  },
  {
   "cell_type": "code",
   "execution_count": 58,
   "metadata": {},
   "outputs": [],
   "source": [
    "crimes_outcomes = crimes_total.merge(outcomes_total, on='Crime ID', how='left')"
   ]
  },
  {
   "cell_type": "markdown",
   "metadata": {},
   "source": [
    "##### WEIRD THING, length of crimes_outcomes is larger than crimes"
   ]
  },
  {
   "cell_type": "code",
   "execution_count": 56,
   "metadata": {},
   "outputs": [],
   "source": [
    "x = crimes_outcomes[crimes_outcomes['Crime ID'] == '65b197b2e13328e3a4e2a7cf8002a9051f0024fa4e22cd2abc8b961c9d131928']"
   ]
  },
  {
   "cell_type": "code",
   "execution_count": 70,
   "metadata": {},
   "outputs": [
    {
     "data": {
      "text/plain": [
       "1112763"
      ]
     },
     "execution_count": 70,
     "metadata": {},
     "output_type": "execute_result"
    }
   ],
   "source": [
    "mycounts = crimes_outcomes['Crime ID'].value_counts()\n",
    "len(mycounts.loc[mycounts > 1])"
   ]
  },
  {
   "cell_type": "code",
   "execution_count": 55,
   "metadata": {},
   "outputs": [
    {
     "data": {
      "text/plain": [
       "65b197b2e13328e3a4e2a7cf8002a9051f0024fa4e22cd2abc8b961c9d131928    8\n",
       "Name: Crime ID, dtype: int64"
      ]
     },
     "execution_count": 55,
     "metadata": {},
     "output_type": "execute_result"
    }
   ],
   "source": [
    "x['Crime ID'].value_counts()"
   ]
  },
  {
   "cell_type": "code",
   "execution_count": 73,
   "metadata": {},
   "outputs": [],
   "source": [
    "crimes_outcomes.to_csv('data/curated_data/crimes_outcomes2014_2023.csv', index=False)"
   ]
  },
  {
   "cell_type": "code",
   "execution_count": 76,
   "metadata": {},
   "outputs": [
    {
     "data": {
      "text/plain": [
       "Index(['Crime ID', 'Reported by_x', 'Falls within_x', 'Location_x',\n",
       "       'LSOA code_x', 'LSOA name_x', 'Crime type', 'Last outcome category',\n",
       "       'Context', 'year_x', 'month_x', 'Reported by_y', 'Falls within_y',\n",
       "       'Longitude', 'Latitude', 'Location_y', 'LSOA code_y', 'LSOA name_y',\n",
       "       'Outcome type', 'year_y', 'month_y'],\n",
       "      dtype='object')"
      ]
     },
     "execution_count": 76,
     "metadata": {},
     "output_type": "execute_result"
    }
   ],
   "source": [
    "crimes_outcomes.columns"
   ]
  },
  {
   "cell_type": "markdown",
   "metadata": {},
   "source": [
    "### Adding information about the resolved/unresolved case"
   ]
  },
  {
   "cell_type": "code",
   "execution_count": 79,
   "metadata": {},
   "outputs": [],
   "source": [
    "crime_outcomes = {\n",
    "    \"Investigation complete; no suspect identified\": \"unresolved\",\n",
    "    \"Suspect charged\": \"resolved\",\n",
    "    \"Local resolution\": \"resolved\",\n",
    "    \"Offender given a caution\": \"resolved\",\n",
    "    \"Offender given a drugs possession warning\": \"resolved\",\n",
    "    \"Offender given penalty notice\": \"resolved\",\n",
    "    \"Offender sent to prison\": \"resolved\",\n",
    "    \"Defendant found not guilty\": \"resolved\",\n",
    "    \"Offender given community sentence\": \"resolved\",\n",
    "    \"Offender fined\": \"resolved\",\n",
    "    \"Offender given suspended prison sentence\": \"resolved\",\n",
    "    \"Offender given conditional discharge\": \"resolved\",\n",
    "    \"Court case unable to proceed\": \"unresolved\",\n",
    "    \"Offender otherwise dealt with\": \"resolved\",\n",
    "    \"Offender ordered to pay compensation\": \"resolved\",\n",
    "    \"Offender deprived of property\": \"resolved\",\n",
    "    \"Suspect charged as part of another case\": \"resolved\",\n",
    "    \"Offender given absolute discharge\": \"resolved\",\n",
    "    \"Defendant sent to Crown Court\": \"resolved\",\n",
    "    \"Formal action is not in the public interest\": \"resolved\",\n",
    "    \"Unable to prosecute suspect\": \"unresolved\"\n",
    "}\n",
    "\n",
    "\n",
    "crimes_outcomes['outcome'] = crimes_outcomes['Outcome type'].apply(lambda x: crime_outcomes[x] if not pd.isna(x)  else x)"
   ]
  },
  {
   "cell_type": "code",
   "execution_count": 81,
   "metadata": {},
   "outputs": [
    {
     "data": {
      "text/plain": [
       "unresolved    4207450\n",
       "resolved       878448\n",
       "Name: outcome, dtype: int64"
      ]
     },
     "execution_count": 81,
     "metadata": {},
     "output_type": "execute_result"
    }
   ],
   "source": [
    "crimes_outcomes['outcome'].value_counts()"
   ]
  },
  {
   "cell_type": "markdown",
   "metadata": {},
   "source": [
    "# Merger locations"
   ]
  },
  {
   "cell_type": "code",
   "execution_count": null,
   "metadata": {},
   "outputs": [],
   "source": []
  }
 ],
 "metadata": {
  "kernelspec": {
   "display_name": "gen_ML",
   "language": "python",
   "name": "python3"
  },
  "language_info": {
   "codemirror_mode": {
    "name": "ipython",
    "version": 3
   },
   "file_extension": ".py",
   "mimetype": "text/x-python",
   "name": "python",
   "nbconvert_exporter": "python",
   "pygments_lexer": "ipython3",
   "version": "3.9.16"
  }
 },
 "nbformat": 4,
 "nbformat_minor": 2
}
