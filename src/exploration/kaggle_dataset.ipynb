{
 "cells": [
  {
   "cell_type": "code",
   "execution_count": 1,
   "metadata": {},
   "outputs": [],
   "source": [
    "import pandas as pd\n",
    "import geopandas as gpd\n",
    "import numpy as np\n",
    "import matplotlib.pyplot as plt"
   ]
  },
  {
   "cell_type": "markdown",
   "metadata": {},
   "source": [
    "# Make crime df for 2014 - 2024"
   ]
  },
  {
   "cell_type": "code",
   "execution_count": 2,
   "metadata": {},
   "outputs": [],
   "source": [
    "kaggle_df = pd.read_csv('data/UK_Police_Street_Crime_2018-10-01_to_2021_09_31.csv')\n",
    "crime_df = pd.read_csv('data/curated_data/crime.csv')\n",
    "crime_cols = crime_df.columns\n",
    "kaggle_df = kaggle_df[crime_cols]\n",
    "kaggle_df = kaggle_df[kaggle_df['Reported by'] == 'Metropolitan Police Service']"
   ]
  },
  {
   "cell_type": "code",
   "execution_count": 14,
   "metadata": {},
   "outputs": [],
   "source": [
    "data2021_2023 = pd.read_csv('data/curated_data/crime.csv')\n",
    "data2018_2021 = kaggle_df\n",
    "data2014_2017 = pd.read_csv('data/archive 3/london-street.csv')"
   ]
  },
  {
   "cell_type": "code",
   "execution_count": 19,
   "metadata": {},
   "outputs": [
    {
     "name": "stderr",
     "output_type": "stream",
     "text": [
      "/var/folders/vw/rm1q12851jq6ww7xsgf4g0x00000gn/T/ipykernel_88969/2833359830.py:1: FutureWarning: The frame.append method is deprecated and will be removed from pandas in a future version. Use pandas.concat instead.\n",
      "  crimes_total = data2021_2023.append(data2018_2021).append(data2014_2017)\n",
      "/var/folders/vw/rm1q12851jq6ww7xsgf4g0x00000gn/T/ipykernel_88969/2833359830.py:1: FutureWarning: The frame.append method is deprecated and will be removed from pandas in a future version. Use pandas.concat instead.\n",
      "  crimes_total = data2021_2023.append(data2018_2021).append(data2014_2017)\n"
     ]
    }
   ],
   "source": [
    "crimes_total = data2021_2023.append(data2018_2021).append(data2014_2017)\n",
    "crimes_total['year'] = crimes_total['Month'].apply(lambda x: int(x.split('-')[0]))\n",
    "crimes_total['month'] = crimes_total['Month'].apply(lambda x: int(x.split('-')[1]))\n",
    "crimes_total.drop(columns=['Month', 'Longitude', 'Latitude', 'Context'], inplace=True)\n",
    "crimes_total = crimes_total[crimes_total['Reported by'] == 'Metropolitan Police Service']"
   ]
  },
  {
   "cell_type": "markdown",
   "metadata": {},
   "source": [
    "# Make outcomes df for 2014 - 2024"
   ]
  },
  {
   "cell_type": "code",
   "execution_count": 43,
   "metadata": {},
   "outputs": [],
   "source": [
    "outcomes21_23 = pd.read_csv('data/curated_data/outcome.csv')\n",
    "outcomes14_17 = pd.read_csv('data/archive 3/london-outcomes.csv')\n",
    "outcomes_total = outcomes21_23.append(outcomes14_17)\n",
    "outcomes_total['year'] = outcomes_total['Month'].apply(lambda x: int(x.split('-')[0]))\n",
    "outcomes_total['month'] = outcomes_total['Month'].apply(lambda x: int(x.split('-')[1]))\n",
    "outcomes_total.drop(columns=['Month'], inplace=True)\n",
    "outcomes_total = outcomes_total[outcomes_total['Reported by'] == 'Metropolitan Police Service']"
   ]
  },
  {
   "cell_type": "markdown",
   "metadata": {},
   "source": [
    "# Merge crimes and outcomes"
   ]
  },
  {
   "cell_type": "code",
   "execution_count": 58,
   "metadata": {},
   "outputs": [],
   "source": [
    "crimes_outcomes = crimes_total.merge(outcomes_total, on='Crime ID', how='left')"
   ]
  },
  {
   "cell_type": "markdown",
   "metadata": {},
   "source": [
    "##### WEIRD THING, length of crimes_outcomes is larger than crimes"
   ]
  },
  {
   "cell_type": "code",
   "execution_count": 56,
   "metadata": {},
   "outputs": [],
   "source": [
    "x = crimes_outcomes[crimes_outcomes['Crime ID'] == '65b197b2e13328e3a4e2a7cf8002a9051f0024fa4e22cd2abc8b961c9d131928']"
   ]
  },
  {
   "cell_type": "code",
   "execution_count": 70,
   "metadata": {},
   "outputs": [
    {
     "data": {
      "text/plain": [
       "1112763"
      ]
     },
     "execution_count": 70,
     "metadata": {},
     "output_type": "execute_result"
    }
   ],
   "source": [
    "mycounts = crimes_outcomes['Crime ID'].value_counts()\n",
    "len(mycounts.loc[mycounts > 1])"
   ]
  },
  {
   "cell_type": "code",
   "execution_count": 55,
   "metadata": {},
   "outputs": [
    {
     "data": {
      "text/plain": [
       "65b197b2e13328e3a4e2a7cf8002a9051f0024fa4e22cd2abc8b961c9d131928    8\n",
       "Name: Crime ID, dtype: int64"
      ]
     },
     "execution_count": 55,
     "metadata": {},
     "output_type": "execute_result"
    }
   ],
   "source": [
    "x['Crime ID'].value_counts()"
   ]
  },
  {
   "cell_type": "code",
   "execution_count": 51,
   "metadata": {},
   "outputs": [
    {
     "data": {
      "text/plain": [
       "array(['Investigation complete; no suspect identified',\n",
       "       'Local resolution', 'Suspect charged',\n",
       "       'Offender given penalty notice', 'Offender given a caution',\n",
       "       'Offender given a drugs possession warning',\n",
       "       'Suspect charged as part of another case',\n",
       "       'Formal action is not in the public interest',\n",
       "       'Unable to prosecute suspect', 'Offender given community sentence',\n",
       "       'Offender fined', 'Offender sent to prison',\n",
       "       'Offender given conditional discharge',\n",
       "       'Offender given suspended prison sentence',\n",
       "       'Defendant found not guilty', 'Offender deprived of property',\n",
       "       'Offender otherwise dealt with', 'Court case unable to proceed',\n",
       "       'Offender ordered to pay compensation',\n",
       "       'Offender given absolute discharge',\n",
       "       'Defendant sent to Crown Court'], dtype=object)"
      ]
     },
     "execution_count": 51,
     "metadata": {},
     "output_type": "execute_result"
    }
   ],
   "source": [
    "outcomes_total['Outcome type'].unique()"
   ]
  },
  {
   "cell_type": "code",
   "execution_count": 73,
   "metadata": {},
   "outputs": [],
   "source": [
    "crimes_outcomes.to_csv('data/curated_data/crimes_outcomes2014_2023.csv', index=False)"
   ]
  },
  {
   "cell_type": "code",
   "execution_count": null,
   "metadata": {},
   "outputs": [],
   "source": []
  }
 ],
 "metadata": {
  "kernelspec": {
   "display_name": "gen_ML",
   "language": "python",
   "name": "python3"
  },
  "language_info": {
   "codemirror_mode": {
    "name": "ipython",
    "version": 3
   },
   "file_extension": ".py",
   "mimetype": "text/x-python",
   "name": "python",
   "nbconvert_exporter": "python",
   "pygments_lexer": "ipython3",
   "version": "3.9.16"
  }
 },
 "nbformat": 4,
 "nbformat_minor": 2
}
