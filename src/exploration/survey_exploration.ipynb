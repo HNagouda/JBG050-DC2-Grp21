{
 "cells": [
  {
   "cell_type": "code",
   "execution_count": 1,
   "metadata": {},
   "outputs": [],
   "source": [
    "import pandas as pd"
   ]
  },
  {
   "cell_type": "code",
   "execution_count": 23,
   "metadata": {},
   "outputs": [],
   "source": [
    "df_survey = pd.read_excel('data/PAS_T&Cdashboard_to Q3 23-24.xlsx', sheet_name='Borough')"
   ]
  },
  {
   "cell_type": "code",
   "execution_count": 13,
   "metadata": {},
   "outputs": [
    {
     "name": "stdout",
     "output_type": "stream",
     "text": [
      "<class 'pandas.core.frame.DataFrame'>\n",
      "RangeIndex: 9312 entries, 0 to 9311\n",
      "Data columns (total 10 columns):\n",
      " #   Column      Non-Null Count  Dtype         \n",
      "---  ------      --------------  -----         \n",
      " 0   Date        9312 non-null   datetime64[ns]\n",
      " 1   Survey      9312 non-null   object        \n",
      " 2   Borough     9312 non-null   object        \n",
      " 3   Measure     9312 non-null   object        \n",
      " 4   Proportion  9312 non-null   float64       \n",
      " 5   MPS         9312 non-null   float64       \n",
      " 6   Unnamed: 6  0 non-null      float64       \n",
      " 7   Unnamed: 7  0 non-null      float64       \n",
      " 8   Unnamed: 8  1 non-null      object        \n",
      " 9   Unnamed: 9  1 non-null      float64       \n",
      "dtypes: datetime64[ns](1), float64(5), object(4)\n",
      "memory usage: 727.6+ KB\n"
     ]
    }
   ],
   "source": [
    "df_survey.info()"
   ]
  },
  {
   "cell_type": "code",
   "execution_count": 14,
   "metadata": {},
   "outputs": [],
   "source": [
    "from dash import Dash, html, dcc, Input, Output\n",
    "import plotly.express as px"
   ]
  },
  {
   "cell_type": "code",
   "execution_count": 24,
   "metadata": {},
   "outputs": [
    {
     "data": {
      "text/plain": [
       "array(['\"Good Job\" local', 'Contact ward officer', 'Informed local',\n",
       "       'Listen to concerns', 'Relied on to be there',\n",
       "       'Treat everyone fairly', 'Understand issues', 'Trust MPS'],\n",
       "      dtype=object)"
      ]
     },
     "execution_count": 24,
     "metadata": {},
     "output_type": "execute_result"
    }
   ],
   "source": [
    "df_survey['Measure'].unique()\n",
    "\n",
    "EFFECTIVENESS  = 'Effectiveness'\n",
    "ACCOUNTABILITY = 'Accountability'\n",
    "LOCAL_ENGAGEMENT = 'Local Engagement'\n",
    "\n",
    "\n",
    "trust_categories = {\n",
    "    '\"Good Job\" local': EFFECTIVENESS,\n",
    "    'Contact ward officer': LOCAL_ENGAGEMENT,\n",
    "    'Informed local': LOCAL_ENGAGEMENT,\n",
    "    'Listen to concerns': LOCAL_ENGAGEMENT,\n",
    "    'Relied on to be there': EFFECTIVENESS,\n",
    "    'Treat everyone fairly': ACCOUNTABILITY,\n",
    "    'Understand issues': LOCAL_ENGAGEMENT,\n",
    "    'Trust MPS': ACCOUNTABILITY\n",
    "}"
   ]
  },
  {
   "cell_type": "code",
   "execution_count": 15,
   "metadata": {},
   "outputs": [
    {
     "data": {
      "text/html": [
       "\n",
       "        <iframe\n",
       "            width=\"100%\"\n",
       "            height=\"650\"\n",
       "            src=\"http://127.0.0.1:8050/\"\n",
       "            frameborder=\"0\"\n",
       "            allowfullscreen\n",
       "            \n",
       "        ></iframe>\n",
       "        "
      ],
      "text/plain": [
       "<IPython.lib.display.IFrame at 0x7fbcbbe5fd60>"
      ]
     },
     "metadata": {},
     "output_type": "display_data"
    }
   ],
   "source": [
    "\n",
    "app = Dash(__name__)\n",
    "\n",
    "df_survey['Date'] = pd.to_datetime(df_survey['Date'])\n",
    "\n",
    "app.layout = html.Div([\n",
    "    dcc.Dropdown(\n",
    "        id='measure-dropdown',\n",
    "        options=[{'label': x, 'value': x} for x in df_survey['Measure'].unique()],\n",
    "        value=df_survey['Measure'].unique()[0] \n",
    "    ),\n",
    "    dcc.Graph(id='line-chart')\n",
    "])\n",
    "\n",
    "@app.callback(\n",
    "    Output('line-chart', 'figure'),\n",
    "    Input('measure-dropdown', 'value'))\n",
    "def update_graph(selected_measure):\n",
    "    filtered_df_survey = df_survey[df_survey['Measure'] == selected_measure]\n",
    "    fig = px.line(\n",
    "        filtered_df_survey,\n",
    "        x='Date',\n",
    "        y='Proportion',\n",
    "        color='Borough',\n",
    "        title=f'Proportion by Borough for {selected_measure}'\n",
    "    )\n",
    "    return fig\n",
    "\n",
    "if __name__ == '__main__':\n",
    "    app.run_server(debug=True)"
   ]
  },
  {
   "cell_type": "code",
   "execution_count": 10,
   "metadata": {},
   "outputs": [
    {
     "data": {
      "text/html": [
       "\n",
       "        <iframe\n",
       "            width=\"100%\"\n",
       "            height=\"650\"\n",
       "            src=\"http://127.0.0.1:8050/\"\n",
       "            frameborder=\"0\"\n",
       "            allowfullscreen\n",
       "            \n",
       "        ></iframe>\n",
       "        "
      ],
      "text/plain": [
       "<IPython.lib.display.IFrame at 0x7fbce111f430>"
      ]
     },
     "metadata": {},
     "output_type": "display_data"
    }
   ],
   "source": [
    "from dash import Dash, dcc, html\n",
    "from dash.dependencies import Input, Output\n",
    "import pandas as pd\n",
    "import plotly.express as px\n",
    "\n",
    "# Assuming df_survey is already defined and looks something like this:\n",
    "df_survey = pd.DataFrame({\n",
    "    'Date': ['2021-01-01', '2021-01-02', '2021-01-03'] * 2,\n",
    "    'Measure': ['Temperature', 'Temperature', 'Temperature'] + ['Humidity', 'Humidity', 'Humidity'],\n",
    "    'Proportion': [22, 23, 21, 55, 57, 58],\n",
    "    'Borough': ['Manhattan', 'Brooklyn', 'Queens']*2\n",
    "})\n",
    "\n",
    "app = Dash(__name__)\n",
    "\n",
    "# Convert 'Date' to datetime\n",
    "df_survey['Date'] = pd.to_datetime(df_survey['Date'])\n",
    "\n",
    "app.layout = html.Div([\n",
    "    dcc.Dropdown(\n",
    "        id='measure-dropdown',\n",
    "        options=[{'label': x, 'value': x} for x in df_survey['Measure'].unique()],\n",
    "        value=df_survey['Measure'].unique()[0] \n",
    "    ),\n",
    "    dcc.Dropdown(\n",
    "        id='borough-dropdown',\n",
    "        options=[{'label': x, 'value': x} for x in df_survey['Borough'].unique()],\n",
    "        value=df_survey['Borough'].unique().tolist(),\n",
    "        multi=True  # Allow multiple selections\n",
    "    ),\n",
    "    dcc.Graph(id='line-chart')\n",
    "])\n",
    "\n",
    "@app.callback(\n",
    "    Output('line-chart', 'figure'),\n",
    "    [Input('measure-dropdown', 'value'),\n",
    "     Input('borough-dropdown', 'value')])\n",
    "def update_graph(selected_measure, selected_boroughs):\n",
    "    # Filter the data based on selected measure and boroughs\n",
    "    print(selected_boroughs)\n",
    "    filtered_df_survey = df_survey[(df_survey['Measure'] == selected_measure) & \n",
    "                                   (df_survey['Borough'].isin(selected_boroughs))]\n",
    "    fig = px.line(\n",
    "        filtered_df_survey,\n",
    "        x='Date',\n",
    "        y='Proportion',\n",
    "        color='Borough',\n",
    "        title=f'Proportion by Borough for {selected_measure}'\n",
    "    )\n",
    "    return fig\n",
    "\n",
    "if __name__ == '__main__':\n",
    "    app.run_server(debug=True)"
   ]
  },
  {
   "cell_type": "code",
   "execution_count": 9,
   "metadata": {},
   "outputs": [
    {
     "data": {
      "text/plain": [
       "['2021-01-01',\n",
       " '2021-01-02',\n",
       " '2021-01-03',\n",
       " '2021-01-01',\n",
       " '2021-01-02',\n",
       " '2021-01-03']"
      ]
     },
     "execution_count": 9,
     "metadata": {},
     "output_type": "execute_result"
    }
   ],
   "source": [
    "['2021-01-01', '2021-01-02', '2021-01-03'] * 2"
   ]
  },
  {
   "cell_type": "code",
   "execution_count": null,
   "metadata": {},
   "outputs": [],
   "source": []
  }
 ],
 "metadata": {
  "kernelspec": {
   "display_name": "gen_ML",
   "language": "python",
   "name": "python3"
  },
  "language_info": {
   "codemirror_mode": {
    "name": "ipython",
    "version": 3
   },
   "file_extension": ".py",
   "mimetype": "text/x-python",
   "name": "python",
   "nbconvert_exporter": "python",
   "pygments_lexer": "ipython3",
   "version": "3.9.16"
  }
 },
 "nbformat": 4,
 "nbformat_minor": 2
}
