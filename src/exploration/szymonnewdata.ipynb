{
 "cells": [
  {
   "cell_type": "code",
   "execution_count": 1,
   "metadata": {},
   "outputs": [],
   "source": [
    "import pandas as pd\n",
    "import numpy as np\n",
    "import matplotlib.pyplot as plt\n",
    "import seaborn as sns\n",
    "import plotly.express as px"
   ]
  },
  {
   "cell_type": "code",
   "execution_count": 2,
   "metadata": {},
   "outputs": [],
   "source": [
    "# Load the data\n",
    "import geopandas as gpd \n",
    "import fiona"
   ]
  },
  {
   "cell_type": "code",
   "execution_count": 13,
   "metadata": {},
   "outputs": [],
   "source": [
    "gpd.io.file.fiona.drvsupport.supported_drivers['KML'] = 'rw'\n",
    "\n",
    "# geo_df = gpd.read_file('data/region_locations/avon-and-somerset/AE017.kml',driver='KML')"
   ]
  },
  {
   "cell_type": "code",
   "execution_count": 13,
   "metadata": {},
   "outputs": [],
   "source": [
    "shape_df = gpd.read_file('data/Output_Areas_2021_EW_BGC_V2_-6371128854279904124/OA_2021_EW_BGC_V2.shp')"
   ]
  },
  {
   "cell_type": "code",
   "execution_count": 17,
   "metadata": {},
   "outputs": [],
   "source": [
    "cleared_shape_df = shape_df[['OA21CD', 'LSOA21CD', 'geometry']]"
   ]
  },
  {
   "cell_type": "code",
   "execution_count": 18,
   "metadata": {},
   "outputs": [],
   "source": [
    "crime_df = pd.read_csv('data/curated_data/crime.csv')"
   ]
  },
  {
   "cell_type": "code",
   "execution_count": 20,
   "metadata": {},
   "outputs": [],
   "source": [
    "cleared_crime_df = crime_df[['Month', 'LSOA code', 'Crime type', 'Last outcome category']]"
   ]
  },
  {
   "cell_type": "code",
   "execution_count": 21,
   "metadata": {},
   "outputs": [],
   "source": [
    "cleared_shape_df = cleared_shape_df.rename(columns = {'LSOA21CD': 'LSOA code'})"
   ]
  },
  {
   "cell_type": "code",
   "execution_count": 22,
   "metadata": {},
   "outputs": [
    {
     "data": {
      "text/html": [
       "<div>\n",
       "<style scoped>\n",
       "    .dataframe tbody tr th:only-of-type {\n",
       "        vertical-align: middle;\n",
       "    }\n",
       "\n",
       "    .dataframe tbody tr th {\n",
       "        vertical-align: top;\n",
       "    }\n",
       "\n",
       "    .dataframe thead th {\n",
       "        text-align: right;\n",
       "    }\n",
       "</style>\n",
       "<table border=\"1\" class=\"dataframe\">\n",
       "  <thead>\n",
       "    <tr style=\"text-align: right;\">\n",
       "      <th></th>\n",
       "      <th>OA21CD</th>\n",
       "      <th>LSOA code</th>\n",
       "      <th>geometry</th>\n",
       "    </tr>\n",
       "  </thead>\n",
       "  <tbody>\n",
       "    <tr>\n",
       "      <th>0</th>\n",
       "      <td>E00000001</td>\n",
       "      <td>E01000001</td>\n",
       "      <td>POLYGON ((532303.492 181814.110, 532213.378 18...</td>\n",
       "    </tr>\n",
       "    <tr>\n",
       "      <th>1</th>\n",
       "      <td>E00000003</td>\n",
       "      <td>E01000001</td>\n",
       "      <td>POLYGON ((532213.378 181846.192, 532190.539 18...</td>\n",
       "    </tr>\n",
       "    <tr>\n",
       "      <th>2</th>\n",
       "      <td>E00000005</td>\n",
       "      <td>E01000001</td>\n",
       "      <td>POLYGON ((532180.131 181763.020, 532219.161 18...</td>\n",
       "    </tr>\n",
       "    <tr>\n",
       "      <th>3</th>\n",
       "      <td>E00000007</td>\n",
       "      <td>E01000001</td>\n",
       "      <td>POLYGON ((532201.292 181668.180, 532267.728 18...</td>\n",
       "    </tr>\n",
       "    <tr>\n",
       "      <th>4</th>\n",
       "      <td>E00000010</td>\n",
       "      <td>E01000003</td>\n",
       "      <td>POLYGON ((532127.958 182133.192, 532089.264 18...</td>\n",
       "    </tr>\n",
       "  </tbody>\n",
       "</table>\n",
       "</div>"
      ],
      "text/plain": [
       "      OA21CD  LSOA code                                           geometry\n",
       "0  E00000001  E01000001  POLYGON ((532303.492 181814.110, 532213.378 18...\n",
       "1  E00000003  E01000001  POLYGON ((532213.378 181846.192, 532190.539 18...\n",
       "2  E00000005  E01000001  POLYGON ((532180.131 181763.020, 532219.161 18...\n",
       "3  E00000007  E01000001  POLYGON ((532201.292 181668.180, 532267.728 18...\n",
       "4  E00000010  E01000003  POLYGON ((532127.958 182133.192, 532089.264 18..."
      ]
     },
     "execution_count": 22,
     "metadata": {},
     "output_type": "execute_result"
    }
   ],
   "source": [
    "cleared_shape_df.head()"
   ]
  },
  {
   "cell_type": "code",
   "execution_count": 35,
   "metadata": {},
   "outputs": [],
   "source": [
    "demographic_df = pd.read_excel('data/demographic_data/saiefy1920finalqaddownload280923.xlsx', sheet_name='Total annual income')"
   ]
  },
  {
   "cell_type": "code",
   "execution_count": 47,
   "metadata": {},
   "outputs": [
    {
     "data": {
      "text/html": [
       "<div>\n",
       "<style scoped>\n",
       "    .dataframe tbody tr th:only-of-type {\n",
       "        vertical-align: middle;\n",
       "    }\n",
       "\n",
       "    .dataframe tbody tr th {\n",
       "        vertical-align: top;\n",
       "    }\n",
       "\n",
       "    .dataframe thead th {\n",
       "        text-align: right;\n",
       "    }\n",
       "</style>\n",
       "<table border=\"1\" class=\"dataframe\">\n",
       "  <thead>\n",
       "    <tr style=\"text-align: right;\">\n",
       "      <th></th>\n",
       "      <th>Contents</th>\n",
       "      <th>Unnamed: 1</th>\n",
       "      <th>Unnamed: 2</th>\n",
       "      <th>Unnamed: 3</th>\n",
       "      <th>Unnamed: 4</th>\n",
       "      <th>Unnamed: 5</th>\n",
       "      <th>Unnamed: 6</th>\n",
       "      <th>Unnamed: 7</th>\n",
       "      <th>Unnamed: 8</th>\n",
       "      <th>Unnamed: 9</th>\n",
       "    </tr>\n",
       "  </thead>\n",
       "  <tbody>\n",
       "    <tr>\n",
       "      <th>7200</th>\n",
       "      <td>W02000362</td>\n",
       "      <td>Newport 016</td>\n",
       "      <td>W06000022</td>\n",
       "      <td>Newport</td>\n",
       "      <td>W92000004</td>\n",
       "      <td>Wales</td>\n",
       "      <td>44500</td>\n",
       "      <td>52900</td>\n",
       "      <td>37500</td>\n",
       "      <td>15400</td>\n",
       "    </tr>\n",
       "    <tr>\n",
       "      <th>7201</th>\n",
       "      <td>W02000363</td>\n",
       "      <td>Newport 017</td>\n",
       "      <td>W06000022</td>\n",
       "      <td>Newport</td>\n",
       "      <td>W92000004</td>\n",
       "      <td>Wales</td>\n",
       "      <td>35600</td>\n",
       "      <td>42200</td>\n",
       "      <td>30100</td>\n",
       "      <td>12100</td>\n",
       "    </tr>\n",
       "    <tr>\n",
       "      <th>7202</th>\n",
       "      <td>W02000364</td>\n",
       "      <td>Newport 018</td>\n",
       "      <td>W06000022</td>\n",
       "      <td>Newport</td>\n",
       "      <td>W92000004</td>\n",
       "      <td>Wales</td>\n",
       "      <td>35100</td>\n",
       "      <td>41800</td>\n",
       "      <td>29400</td>\n",
       "      <td>12400</td>\n",
       "    </tr>\n",
       "    <tr>\n",
       "      <th>7203</th>\n",
       "      <td>W02000365</td>\n",
       "      <td>Newport 019</td>\n",
       "      <td>W06000022</td>\n",
       "      <td>Newport</td>\n",
       "      <td>W92000004</td>\n",
       "      <td>Wales</td>\n",
       "      <td>37100</td>\n",
       "      <td>44200</td>\n",
       "      <td>31200</td>\n",
       "      <td>13000</td>\n",
       "    </tr>\n",
       "    <tr>\n",
       "      <th>7204</th>\n",
       "      <td>W02000366</td>\n",
       "      <td>Newport 020</td>\n",
       "      <td>W06000022</td>\n",
       "      <td>Newport</td>\n",
       "      <td>W92000004</td>\n",
       "      <td>Wales</td>\n",
       "      <td>51500</td>\n",
       "      <td>61400</td>\n",
       "      <td>43300</td>\n",
       "      <td>18100</td>\n",
       "    </tr>\n",
       "  </tbody>\n",
       "</table>\n",
       "</div>"
      ],
      "text/plain": [
       "       Contents   Unnamed: 1 Unnamed: 2 Unnamed: 3 Unnamed: 4 Unnamed: 5  \\\n",
       "7200  W02000362  Newport 016  W06000022    Newport  W92000004      Wales   \n",
       "7201  W02000363  Newport 017  W06000022    Newport  W92000004      Wales   \n",
       "7202  W02000364  Newport 018  W06000022    Newport  W92000004      Wales   \n",
       "7203  W02000365  Newport 019  W06000022    Newport  W92000004      Wales   \n",
       "7204  W02000366  Newport 020  W06000022    Newport  W92000004      Wales   \n",
       "\n",
       "     Unnamed: 6 Unnamed: 7 Unnamed: 8 Unnamed: 9  \n",
       "7200      44500      52900      37500      15400  \n",
       "7201      35600      42200      30100      12100  \n",
       "7202      35100      41800      29400      12400  \n",
       "7203      37100      44200      31200      13000  \n",
       "7204      51500      61400      43300      18100  "
      ]
     },
     "execution_count": 47,
     "metadata": {},
     "output_type": "execute_result"
    }
   ],
   "source": [
    "demographic_df.tail()"
   ]
  },
  {
   "cell_type": "code",
   "execution_count": 48,
   "metadata": {},
   "outputs": [],
   "source": [
    "LSOA_codes_london = crime_df['LSOA code'].dropna().unique().tolist()"
   ]
  },
  {
   "cell_type": "code",
   "execution_count": 49,
   "metadata": {},
   "outputs": [],
   "source": [
    "demographic_df_london = demographic_df[demographic_df['Unnamed: 4'].isin(LSOA_codes_london)]"
   ]
  },
  {
   "cell_type": "code",
   "execution_count": 50,
   "metadata": {},
   "outputs": [
    {
     "data": {
      "text/html": [
       "<div>\n",
       "<style scoped>\n",
       "    .dataframe tbody tr th:only-of-type {\n",
       "        vertical-align: middle;\n",
       "    }\n",
       "\n",
       "    .dataframe tbody tr th {\n",
       "        vertical-align: top;\n",
       "    }\n",
       "\n",
       "    .dataframe thead th {\n",
       "        text-align: right;\n",
       "    }\n",
       "</style>\n",
       "<table border=\"1\" class=\"dataframe\">\n",
       "  <thead>\n",
       "    <tr style=\"text-align: right;\">\n",
       "      <th></th>\n",
       "      <th>Contents</th>\n",
       "      <th>Unnamed: 1</th>\n",
       "      <th>Unnamed: 2</th>\n",
       "      <th>Unnamed: 3</th>\n",
       "      <th>Unnamed: 4</th>\n",
       "      <th>Unnamed: 5</th>\n",
       "      <th>Unnamed: 6</th>\n",
       "      <th>Unnamed: 7</th>\n",
       "      <th>Unnamed: 8</th>\n",
       "      <th>Unnamed: 9</th>\n",
       "    </tr>\n",
       "  </thead>\n",
       "  <tbody>\n",
       "  </tbody>\n",
       "</table>\n",
       "</div>"
      ],
      "text/plain": [
       "Empty DataFrame\n",
       "Columns: [Contents, Unnamed: 1, Unnamed: 2, Unnamed: 3, Unnamed: 4, Unnamed: 5, Unnamed: 6, Unnamed: 7, Unnamed: 8, Unnamed: 9]\n",
       "Index: []"
      ]
     },
     "execution_count": 50,
     "metadata": {},
     "output_type": "execute_result"
    }
   ],
   "source": [
    "demographic_df_london"
   ]
  },
  {
   "cell_type": "code",
   "execution_count": 53,
   "metadata": {},
   "outputs": [
    {
     "data": {
      "text/html": [
       "<div>\n",
       "<style scoped>\n",
       "    .dataframe tbody tr th:only-of-type {\n",
       "        vertical-align: middle;\n",
       "    }\n",
       "\n",
       "    .dataframe tbody tr th {\n",
       "        vertical-align: top;\n",
       "    }\n",
       "\n",
       "    .dataframe thead th {\n",
       "        text-align: right;\n",
       "    }\n",
       "</style>\n",
       "<table border=\"1\" class=\"dataframe\">\n",
       "  <thead>\n",
       "    <tr style=\"text-align: right;\">\n",
       "      <th></th>\n",
       "      <th>OA21CD</th>\n",
       "      <th>LSOA21CD</th>\n",
       "      <th>LSOA21NM</th>\n",
       "      <th>LSOA21NMW</th>\n",
       "      <th>BNG_E</th>\n",
       "      <th>BNG_N</th>\n",
       "      <th>LAT</th>\n",
       "      <th>LONG</th>\n",
       "      <th>GlobalID</th>\n",
       "      <th>geometry</th>\n",
       "    </tr>\n",
       "  </thead>\n",
       "  <tbody>\n",
       "    <tr>\n",
       "      <th>0</th>\n",
       "      <td>E00000001</td>\n",
       "      <td>E01000001</td>\n",
       "      <td>City of London 001A</td>\n",
       "      <td>NaN</td>\n",
       "      <td>532250</td>\n",
       "      <td>181864</td>\n",
       "      <td>51.5202</td>\n",
       "      <td>-0.09523</td>\n",
       "      <td>3a44dd3d-5082-4a09-9b9c-3a5fadc811ed</td>\n",
       "      <td>POLYGON ((532303.492 181814.110, 532213.378 18...</td>\n",
       "    </tr>\n",
       "    <tr>\n",
       "      <th>1</th>\n",
       "      <td>E00000003</td>\n",
       "      <td>E01000001</td>\n",
       "      <td>City of London 001A</td>\n",
       "      <td>NaN</td>\n",
       "      <td>532171</td>\n",
       "      <td>181819</td>\n",
       "      <td>51.5198</td>\n",
       "      <td>-0.09638</td>\n",
       "      <td>f1216dc8-14d1-4857-9230-cab0641758fb</td>\n",
       "      <td>POLYGON ((532213.378 181846.192, 532190.539 18...</td>\n",
       "    </tr>\n",
       "    <tr>\n",
       "      <th>2</th>\n",
       "      <td>E00000005</td>\n",
       "      <td>E01000001</td>\n",
       "      <td>City of London 001A</td>\n",
       "      <td>NaN</td>\n",
       "      <td>532166</td>\n",
       "      <td>181722</td>\n",
       "      <td>51.5190</td>\n",
       "      <td>-0.09649</td>\n",
       "      <td>44d6f70f-549c-4288-9b6d-de2adbf02582</td>\n",
       "      <td>POLYGON ((532180.131 181763.020, 532219.161 18...</td>\n",
       "    </tr>\n",
       "    <tr>\n",
       "      <th>3</th>\n",
       "      <td>E00000007</td>\n",
       "      <td>E01000001</td>\n",
       "      <td>City of London 001A</td>\n",
       "      <td>NaN</td>\n",
       "      <td>532088</td>\n",
       "      <td>181473</td>\n",
       "      <td>51.5167</td>\n",
       "      <td>-0.09771</td>\n",
       "      <td>4dd683e1-9a5c-46cf-9e19-8465c8fbb6cb</td>\n",
       "      <td>POLYGON ((532201.292 181668.180, 532267.728 18...</td>\n",
       "    </tr>\n",
       "    <tr>\n",
       "      <th>4</th>\n",
       "      <td>E00000010</td>\n",
       "      <td>E01000003</td>\n",
       "      <td>City of London 001C</td>\n",
       "      <td>NaN</td>\n",
       "      <td>532092</td>\n",
       "      <td>182114</td>\n",
       "      <td>51.5225</td>\n",
       "      <td>-0.09741</td>\n",
       "      <td>7476781f-8fe4-4c9b-bde1-0eecbd146dff</td>\n",
       "      <td>POLYGON ((532127.958 182133.192, 532089.264 18...</td>\n",
       "    </tr>\n",
       "  </tbody>\n",
       "</table>\n",
       "</div>"
      ],
      "text/plain": [
       "      OA21CD   LSOA21CD             LSOA21NM LSOA21NMW   BNG_E   BNG_N  \\\n",
       "0  E00000001  E01000001  City of London 001A       NaN  532250  181864   \n",
       "1  E00000003  E01000001  City of London 001A       NaN  532171  181819   \n",
       "2  E00000005  E01000001  City of London 001A       NaN  532166  181722   \n",
       "3  E00000007  E01000001  City of London 001A       NaN  532088  181473   \n",
       "4  E00000010  E01000003  City of London 001C       NaN  532092  182114   \n",
       "\n",
       "       LAT     LONG                              GlobalID  \\\n",
       "0  51.5202 -0.09523  3a44dd3d-5082-4a09-9b9c-3a5fadc811ed   \n",
       "1  51.5198 -0.09638  f1216dc8-14d1-4857-9230-cab0641758fb   \n",
       "2  51.5190 -0.09649  44d6f70f-549c-4288-9b6d-de2adbf02582   \n",
       "3  51.5167 -0.09771  4dd683e1-9a5c-46cf-9e19-8465c8fbb6cb   \n",
       "4  51.5225 -0.09741  7476781f-8fe4-4c9b-bde1-0eecbd146dff   \n",
       "\n",
       "                                            geometry  \n",
       "0  POLYGON ((532303.492 181814.110, 532213.378 18...  \n",
       "1  POLYGON ((532213.378 181846.192, 532190.539 18...  \n",
       "2  POLYGON ((532180.131 181763.020, 532219.161 18...  \n",
       "3  POLYGON ((532201.292 181668.180, 532267.728 18...  \n",
       "4  POLYGON ((532127.958 182133.192, 532089.264 18...  "
      ]
     },
     "execution_count": 53,
     "metadata": {},
     "output_type": "execute_result"
    }
   ],
   "source": [
    "shape_df_ldn = shape_df[shape_df['LSOA21CD'].isin(LSOA_codes_london)]\n",
    "shape_df_ldn.head()"
   ]
  },
  {
   "cell_type": "code",
   "execution_count": 55,
   "metadata": {},
   "outputs": [],
   "source": [
    "boroughs = gpd.read_file('data/London-wards-2018/London-wards-2018_ESRI/London_Ward_CityMerged.shp')"
   ]
  },
  {
   "cell_type": "code",
   "execution_count": 71,
   "metadata": {},
   "outputs": [],
   "source": [
    "ldn_boroughs = boroughs['DISTRICT'].unique().tolist()"
   ]
  },
  {
   "cell_type": "code",
   "execution_count": 61,
   "metadata": {},
   "outputs": [
    {
     "data": {
      "text/plain": [
       "<Axes: >"
      ]
     },
     "execution_count": 61,
     "metadata": {},
     "output_type": "execute_result"
    },
    {
     "data": {
      "image/png": "[encoded data removed]",
      "text/plain": [
       "<Figure size 640x480 with 1 Axes>"
      ]
     },
     "metadata": {},
     "output_type": "display_data"
    }
   ],
   "source": [
    "boroughs.plot()"
   ]
  },
  {
   "cell_type": "code",
   "execution_count": 62,
   "metadata": {},
   "outputs": [
    {
     "data": {
      "text/html": [
       "<div>\n",
       "<style scoped>\n",
       "    .dataframe tbody tr th:only-of-type {\n",
       "        vertical-align: middle;\n",
       "    }\n",
       "\n",
       "    .dataframe tbody tr th {\n",
       "        vertical-align: top;\n",
       "    }\n",
       "\n",
       "    .dataframe thead th {\n",
       "        text-align: right;\n",
       "    }\n",
       "</style>\n",
       "<table border=\"1\" class=\"dataframe\">\n",
       "  <thead>\n",
       "    <tr style=\"text-align: right;\">\n",
       "      <th></th>\n",
       "      <th>Crime ID</th>\n",
       "      <th>Month</th>\n",
       "      <th>Reported by</th>\n",
       "      <th>Falls within</th>\n",
       "      <th>Longitude</th>\n",
       "      <th>Latitude</th>\n",
       "      <th>Location</th>\n",
       "      <th>LSOA code</th>\n",
       "      <th>LSOA name</th>\n",
       "      <th>Crime type</th>\n",
       "      <th>Last outcome category</th>\n",
       "      <th>Context</th>\n",
       "    </tr>\n",
       "  </thead>\n",
       "  <tbody>\n",
       "    <tr>\n",
       "      <th>0</th>\n",
       "      <td>260968c6eec09d2ca5a0a895453cbeba1d429eb662022b...</td>\n",
       "      <td>2023-10</td>\n",
       "      <td>Metropolitan Police Service</td>\n",
       "      <td>Metropolitan Police Service</td>\n",
       "      <td>-0.534527</td>\n",
       "      <td>50.827329</td>\n",
       "      <td>On or near Banks Gardens</td>\n",
       "      <td>E01034816</td>\n",
       "      <td>Arun 004F</td>\n",
       "      <td>Drugs</td>\n",
       "      <td>Investigation complete; no suspect identified</td>\n",
       "      <td>NaN</td>\n",
       "    </tr>\n",
       "    <tr>\n",
       "      <th>1</th>\n",
       "      <td>8fdc14d25654b44657d67659b4699bc8e52c50666f18f2...</td>\n",
       "      <td>2023-10</td>\n",
       "      <td>Metropolitan Police Service</td>\n",
       "      <td>Metropolitan Police Service</td>\n",
       "      <td>0.853458</td>\n",
       "      <td>51.126012</td>\n",
       "      <td>On or near Augustus Walk</td>\n",
       "      <td>E01024008</td>\n",
       "      <td>Ashford 009D</td>\n",
       "      <td>Violence and sexual offences</td>\n",
       "      <td>Investigation complete; no suspect identified</td>\n",
       "      <td>NaN</td>\n",
       "    </tr>\n",
       "    <tr>\n",
       "      <th>2</th>\n",
       "      <td>NaN</td>\n",
       "      <td>2023-10</td>\n",
       "      <td>Metropolitan Police Service</td>\n",
       "      <td>Metropolitan Police Service</td>\n",
       "      <td>0.134947</td>\n",
       "      <td>51.588063</td>\n",
       "      <td>On or near Mead Grove</td>\n",
       "      <td>E01000027</td>\n",
       "      <td>Barking and Dagenham 001A</td>\n",
       "      <td>Anti-social behaviour</td>\n",
       "      <td>NaN</td>\n",
       "      <td>NaN</td>\n",
       "    </tr>\n",
       "    <tr>\n",
       "      <th>3</th>\n",
       "      <td>NaN</td>\n",
       "      <td>2023-10</td>\n",
       "      <td>Metropolitan Police Service</td>\n",
       "      <td>Metropolitan Police Service</td>\n",
       "      <td>0.140194</td>\n",
       "      <td>51.582356</td>\n",
       "      <td>On or near Hatch Grove</td>\n",
       "      <td>E01000027</td>\n",
       "      <td>Barking and Dagenham 001A</td>\n",
       "      <td>Anti-social behaviour</td>\n",
       "      <td>NaN</td>\n",
       "      <td>NaN</td>\n",
       "    </tr>\n",
       "    <tr>\n",
       "      <th>4</th>\n",
       "      <td>NaN</td>\n",
       "      <td>2023-10</td>\n",
       "      <td>Metropolitan Police Service</td>\n",
       "      <td>Metropolitan Police Service</td>\n",
       "      <td>0.140194</td>\n",
       "      <td>51.582356</td>\n",
       "      <td>On or near Hatch Grove</td>\n",
       "      <td>E01000027</td>\n",
       "      <td>Barking and Dagenham 001A</td>\n",
       "      <td>Anti-social behaviour</td>\n",
       "      <td>NaN</td>\n",
       "      <td>NaN</td>\n",
       "    </tr>\n",
       "  </tbody>\n",
       "</table>\n",
       "</div>"
      ],
      "text/plain": [
       "                                            Crime ID    Month  \\\n",
       "0  260968c6eec09d2ca5a0a895453cbeba1d429eb662022b...  2023-10   \n",
       "1  8fdc14d25654b44657d67659b4699bc8e52c50666f18f2...  2023-10   \n",
       "2                                                NaN  2023-10   \n",
       "3                                                NaN  2023-10   \n",
       "4                                                NaN  2023-10   \n",
       "\n",
       "                   Reported by                 Falls within  Longitude  \\\n",
       "0  Metropolitan Police Service  Metropolitan Police Service  -0.534527   \n",
       "1  Metropolitan Police Service  Metropolitan Police Service   0.853458   \n",
       "2  Metropolitan Police Service  Metropolitan Police Service   0.134947   \n",
       "3  Metropolitan Police Service  Metropolitan Police Service   0.140194   \n",
       "4  Metropolitan Police Service  Metropolitan Police Service   0.140194   \n",
       "\n",
       "    Latitude                  Location  LSOA code                  LSOA name  \\\n",
       "0  50.827329  On or near Banks Gardens  E01034816                  Arun 004F   \n",
       "1  51.126012  On or near Augustus Walk  E01024008               Ashford 009D   \n",
       "2  51.588063     On or near Mead Grove  E01000027  Barking and Dagenham 001A   \n",
       "3  51.582356    On or near Hatch Grove  E01000027  Barking and Dagenham 001A   \n",
       "4  51.582356    On or near Hatch Grove  E01000027  Barking and Dagenham 001A   \n",
       "\n",
       "                     Crime type  \\\n",
       "0                         Drugs   \n",
       "1  Violence and sexual offences   \n",
       "2         Anti-social behaviour   \n",
       "3         Anti-social behaviour   \n",
       "4         Anti-social behaviour   \n",
       "\n",
       "                           Last outcome category  Context  \n",
       "0  Investigation complete; no suspect identified      NaN  \n",
       "1  Investigation complete; no suspect identified      NaN  \n",
       "2                                            NaN      NaN  \n",
       "3                                            NaN      NaN  \n",
       "4                                            NaN      NaN  "
      ]
     },
     "execution_count": 62,
     "metadata": {},
     "output_type": "execute_result"
    }
   ],
   "source": [
    "crime_df.head()"
   ]
  },
  {
   "cell_type": "code",
   "execution_count": 68,
   "metadata": {},
   "outputs": [],
   "source": [
    "def get_district_name(lsoa_name):\n",
    "    # print(lsoa_name)\n",
    "    if pd.isna(lsoa_name):\n",
    "        return 'Not identified'\n",
    "    return ' '.join(lsoa_name.split()[:-1])\n",
    "\n",
    "crime_df['District'] = crime_df['LSOA name'].apply(get_district_name)"
   ]
  },
  {
   "cell_type": "code",
   "execution_count": 70,
   "metadata": {},
   "outputs": [],
   "source": [
    "crime_districts = crime_df['District'].unique()"
   ]
  },
  {
   "cell_type": "code",
   "execution_count": 76,
   "metadata": {},
   "outputs": [
    {
     "data": {
      "text/plain": [
       "['City of Westminster', 'City and County of the City of London']"
      ]
     },
     "execution_count": 76,
     "metadata": {},
     "output_type": "execute_result"
    }
   ],
   "source": [
    "# [district for district in crime_districts if district in ldn_boroughs]\n",
    "[borough for borough in ldn_boroughs if borough not in crime_districts]"
   ]
  },
  {
   "cell_type": "code",
   "execution_count": 79,
   "metadata": {},
   "outputs": [],
   "source": [
    "surveys = pd.read_excel('data/PAS_T&Cdashboard_to Q3 23-24.xlsx', sheet_name='Borough')"
   ]
  },
  {
   "cell_type": "code",
   "execution_count": 81,
   "metadata": {},
   "outputs": [],
   "source": [
    "survey_boroughs = surveys['Borough'].unique().tolist()"
   ]
  },
  {
   "cell_type": "code",
   "execution_count": 83,
   "metadata": {},
   "outputs": [
    {
     "data": {
      "text/plain": [
       "1"
      ]
     },
     "execution_count": 83,
     "metadata": {},
     "output_type": "execute_result"
    }
   ],
   "source": [
    "len([boro for boro in survey_boroughs if boro not in ldn_boroughs])"
   ]
  },
  {
   "cell_type": "code",
   "execution_count": 84,
   "metadata": {},
   "outputs": [
    {
     "data": {
      "text/plain": [
       "['Richmond Upon Thames']"
      ]
     },
     "execution_count": 84,
     "metadata": {},
     "output_type": "execute_result"
    }
   ],
   "source": [
    "[boro for boro in survey_boroughs if boro not in ldn_boroughs]"
   ]
  },
  {
   "cell_type": "code",
   "execution_count": 87,
   "metadata": {},
   "outputs": [],
   "source": [
    "shape_df['District'] = shape_df['LSOA21NM'].apply(get_district_name)"
   ]
  },
  {
   "cell_type": "code",
   "execution_count": 93,
   "metadata": {},
   "outputs": [],
   "source": [
    "districts_shape = shape_df['District'].unique().tolist()"
   ]
  },
  {
   "cell_type": "code",
   "execution_count": 95,
   "metadata": {},
   "outputs": [],
   "source": [
    "ldn_boroughs = [borough.upper() for borough in ldn_boroughs]\n",
    "districts_shape = [district.upper() for district in districts_shape]\n",
    "survey_boroughs = [borough.upper() for borough in survey_boroughs]\n",
    "crime_districts = [district.upper() for district in crime_districts]"
   ]
  },
  {
   "cell_type": "code",
   "execution_count": 96,
   "metadata": {},
   "outputs": [
    {
     "name": "stdout",
     "output_type": "stream",
     "text": [
      "33 331 33 353\n"
     ]
    }
   ],
   "source": [
    "print(len(ldn_boroughs), len(districts_shape), len(survey_boroughs), len(crime_districts))"
   ]
  },
  {
   "cell_type": "code",
   "execution_count": 103,
   "metadata": {},
   "outputs": [
    {
     "data": {
      "text/plain": [
       "32"
      ]
     },
     "execution_count": 103,
     "metadata": {},
     "output_type": "execute_result"
    }
   ],
   "source": [
    "len([boro for boro in ldn_boroughs if boro in survey_boroughs])"
   ]
  },
  {
   "cell_type": "code",
   "execution_count": 102,
   "metadata": {},
   "outputs": [
    {
     "data": {
      "text/plain": [
       "['CITY OF LONDON',\n",
       " 'WESTMINSTER',\n",
       " 'BOLTON',\n",
       " 'BURY',\n",
       " 'MANCHESTER',\n",
       " 'OLDHAM',\n",
       " 'ROCHDALE',\n",
       " 'SALFORD',\n",
       " 'STOCKPORT',\n",
       " 'TAMESIDE',\n",
       " 'TRAFFORD',\n",
       " 'WIGAN',\n",
       " 'KNOWSLEY',\n",
       " 'LIVERPOOL',\n",
       " 'ST. HELENS',\n",
       " 'SEFTON',\n",
       " 'WIRRAL',\n",
       " 'BARNSLEY',\n",
       " 'DONCASTER',\n",
       " 'ROTHERHAM',\n",
       " 'SHEFFIELD',\n",
       " 'GATESHEAD',\n",
       " 'NEWCASTLE UPON TYNE',\n",
       " 'NORTH TYNESIDE',\n",
       " 'SOUTH TYNESIDE',\n",
       " 'SUNDERLAND',\n",
       " 'BIRMINGHAM',\n",
       " 'COVENTRY',\n",
       " 'DUDLEY',\n",
       " 'SANDWELL',\n",
       " 'SOLIHULL',\n",
       " 'WALSALL',\n",
       " 'WOLVERHAMPTON',\n",
       " 'BRADFORD',\n",
       " 'CALDERDALE',\n",
       " 'KIRKLEES',\n",
       " 'LEEDS',\n",
       " 'WAKEFIELD',\n",
       " 'HARTLEPOOL',\n",
       " 'MIDDLESBROUGH',\n",
       " 'REDCAR AND CLEVELAND',\n",
       " 'STOCKTON-ON-TEES',\n",
       " 'DARLINGTON',\n",
       " 'HALTON',\n",
       " 'WARRINGTON',\n",
       " 'BLACKBURN WITH DARWEN',\n",
       " 'BLACKPOOL',\n",
       " 'KINGSTON UPON HULL',\n",
       " 'EAST RIDING OF YORKSHIRE',\n",
       " 'NORTH EAST LINCOLNSHIRE',\n",
       " 'NORTH LINCOLNSHIRE',\n",
       " 'YORK',\n",
       " 'DERBY',\n",
       " 'LEICESTER',\n",
       " 'RUTLAND',\n",
       " 'NOTTINGHAM',\n",
       " 'HEREFORDSHIRE',\n",
       " 'TELFORD AND WREKIN',\n",
       " 'STOKE-ON-TRENT',\n",
       " 'BATH AND NORTH EAST SOMERSET',\n",
       " 'BRISTOL',\n",
       " 'NORTH SOMERSET',\n",
       " 'SOUTH GLOUCESTERSHIRE',\n",
       " 'PLYMOUTH',\n",
       " 'TORBAY',\n",
       " 'BOURNEMOUTH, CHRISTCHURCH AND POOLE',\n",
       " 'SWINDON',\n",
       " 'PETERBOROUGH',\n",
       " 'LUTON',\n",
       " 'SOUTHEND-ON-SEA',\n",
       " 'THURROCK',\n",
       " 'MEDWAY',\n",
       " 'BRACKNELL FOREST',\n",
       " 'WEST BERKSHIRE',\n",
       " 'READING',\n",
       " 'SLOUGH',\n",
       " 'WINDSOR AND MAIDENHEAD',\n",
       " 'WOKINGHAM',\n",
       " 'MILTON KEYNES',\n",
       " 'BRIGHTON AND HOVE',\n",
       " 'PORTSMOUTH',\n",
       " 'SOUTHAMPTON',\n",
       " 'ISLE OF WIGHT',\n",
       " 'CENTRAL BEDFORDSHIRE',\n",
       " 'BEDFORD',\n",
       " 'BUCKINGHAMSHIRE',\n",
       " 'CAMBRIDGE',\n",
       " 'EAST CAMBRIDGESHIRE',\n",
       " 'FENLAND',\n",
       " 'HUNTINGDONSHIRE',\n",
       " 'SOUTH CAMBRIDGESHIRE',\n",
       " 'CHESHIRE WEST AND CHESTER',\n",
       " 'CHESHIRE EAST',\n",
       " 'CORNWALL',\n",
       " 'ISLES OF SCILLY',\n",
       " 'ALLERDALE',\n",
       " 'BARROW-IN-FURNESS',\n",
       " 'CARLISLE',\n",
       " 'COPELAND',\n",
       " 'EDEN',\n",
       " 'SOUTH LAKELAND',\n",
       " 'AMBER VALLEY',\n",
       " 'BOLSOVER',\n",
       " 'CHESTERFIELD',\n",
       " 'DERBYSHIRE DALES',\n",
       " 'EREWASH',\n",
       " 'HIGH PEAK',\n",
       " 'NORTH EAST DERBYSHIRE',\n",
       " 'SOUTH DERBYSHIRE',\n",
       " 'EAST DEVON',\n",
       " 'EXETER',\n",
       " 'MID DEVON',\n",
       " 'NORTH DEVON',\n",
       " 'SOUTH HAMS',\n",
       " 'TEIGNBRIDGE',\n",
       " 'TORRIDGE',\n",
       " 'WEST DEVON',\n",
       " 'DORSET',\n",
       " 'COUNTY DURHAM',\n",
       " 'EASTBOURNE',\n",
       " 'HASTINGS',\n",
       " 'LEWES',\n",
       " 'ROTHER',\n",
       " 'WEALDEN',\n",
       " 'BASILDON',\n",
       " 'BRAINTREE',\n",
       " 'BRENTWOOD',\n",
       " 'CASTLE POINT',\n",
       " 'CHELMSFORD',\n",
       " 'COLCHESTER',\n",
       " 'EPPING FOREST',\n",
       " 'HARLOW',\n",
       " 'MALDON',\n",
       " 'ROCHFORD',\n",
       " 'TENDRING',\n",
       " 'UTTLESFORD',\n",
       " 'CHELTENHAM',\n",
       " 'COTSWOLD',\n",
       " 'FOREST OF DEAN',\n",
       " 'GLOUCESTER',\n",
       " 'STROUD',\n",
       " 'TEWKESBURY',\n",
       " 'BASINGSTOKE AND DEANE',\n",
       " 'EAST HAMPSHIRE',\n",
       " 'EASTLEIGH',\n",
       " 'FAREHAM',\n",
       " 'GOSPORT',\n",
       " 'HART',\n",
       " 'HAVANT',\n",
       " 'NEW FOREST',\n",
       " 'RUSHMOOR',\n",
       " 'TEST VALLEY',\n",
       " 'WINCHESTER',\n",
       " 'BROXBOURNE',\n",
       " 'DACORUM',\n",
       " 'EAST HERTFORDSHIRE',\n",
       " 'HERTSMERE',\n",
       " 'NORTH HERTFORDSHIRE',\n",
       " 'ST ALBANS',\n",
       " 'STEVENAGE',\n",
       " 'THREE RIVERS',\n",
       " 'WATFORD',\n",
       " 'WELWYN HATFIELD',\n",
       " 'ASHFORD',\n",
       " 'CANTERBURY',\n",
       " 'DARTFORD',\n",
       " 'DOVER',\n",
       " 'GRAVESHAM',\n",
       " 'MAIDSTONE',\n",
       " 'SEVENOAKS',\n",
       " 'FOLKESTONE AND HYTHE',\n",
       " 'SWALE',\n",
       " 'THANET',\n",
       " 'TONBRIDGE AND MALLING',\n",
       " 'TUNBRIDGE WELLS',\n",
       " 'BURNLEY',\n",
       " 'CHORLEY',\n",
       " 'FYLDE',\n",
       " 'HYNDBURN',\n",
       " 'LANCASTER',\n",
       " 'PENDLE',\n",
       " 'PRESTON',\n",
       " 'RIBBLE VALLEY',\n",
       " 'ROSSENDALE',\n",
       " 'SOUTH RIBBLE',\n",
       " 'WEST LANCASHIRE',\n",
       " 'WYRE',\n",
       " 'BLABY',\n",
       " 'CHARNWOOD',\n",
       " 'HARBOROUGH',\n",
       " 'HINCKLEY AND BOSWORTH',\n",
       " 'MELTON',\n",
       " 'NORTH WEST LEICESTERSHIRE',\n",
       " 'OADBY AND WIGSTON',\n",
       " 'BOSTON',\n",
       " 'EAST LINDSEY',\n",
       " 'LINCOLN',\n",
       " 'NORTH KESTEVEN',\n",
       " 'SOUTH HOLLAND',\n",
       " 'SOUTH KESTEVEN',\n",
       " 'WEST LINDSEY',\n",
       " 'BRECKLAND',\n",
       " 'BROADLAND',\n",
       " 'GREAT YARMOUTH',\n",
       " \"KING'S LYNN AND WEST NORFOLK\",\n",
       " 'NORTH NORFOLK',\n",
       " 'NORWICH',\n",
       " 'SOUTH NORFOLK',\n",
       " 'NORTH NORTHAMPTONSHIRE',\n",
       " 'WEST NORTHAMPTONSHIRE',\n",
       " 'NORTHUMBERLAND',\n",
       " 'CRAVEN',\n",
       " 'HAMBLETON',\n",
       " 'HARROGATE',\n",
       " 'RICHMONDSHIRE',\n",
       " 'RYEDALE',\n",
       " 'SCARBOROUGH',\n",
       " 'SELBY',\n",
       " 'ASHFIELD',\n",
       " 'BASSETLAW',\n",
       " 'BROXTOWE',\n",
       " 'GEDLING',\n",
       " 'MANSFIELD',\n",
       " 'NEWARK AND SHERWOOD',\n",
       " 'RUSHCLIFFE',\n",
       " 'CHERWELL',\n",
       " 'OXFORD',\n",
       " 'SOUTH OXFORDSHIRE',\n",
       " 'VALE OF WHITE HORSE',\n",
       " 'WEST OXFORDSHIRE',\n",
       " 'SHROPSHIRE',\n",
       " 'MENDIP',\n",
       " 'SEDGEMOOR',\n",
       " 'SOUTH SOMERSET',\n",
       " 'SOMERSET WEST AND TAUNTON',\n",
       " 'CANNOCK CHASE',\n",
       " 'EAST STAFFORDSHIRE',\n",
       " 'LICHFIELD',\n",
       " 'NEWCASTLE-UNDER-LYME',\n",
       " 'SOUTH STAFFORDSHIRE',\n",
       " 'STAFFORD',\n",
       " 'STAFFORDSHIRE MOORLANDS',\n",
       " 'TAMWORTH',\n",
       " 'BABERGH',\n",
       " 'WEST SUFFOLK',\n",
       " 'IPSWICH',\n",
       " 'MID SUFFOLK',\n",
       " 'EAST SUFFOLK',\n",
       " 'ELMBRIDGE',\n",
       " 'EPSOM AND EWELL',\n",
       " 'GUILDFORD',\n",
       " 'MOLE VALLEY',\n",
       " 'REIGATE AND BANSTEAD',\n",
       " 'RUNNYMEDE',\n",
       " 'SPELTHORNE',\n",
       " 'SURREY HEATH',\n",
       " 'TANDRIDGE',\n",
       " 'WAVERLEY',\n",
       " 'WOKING',\n",
       " 'NORTH WARWICKSHIRE',\n",
       " 'NUNEATON AND BEDWORTH',\n",
       " 'RUGBY',\n",
       " 'STRATFORD-ON-AVON',\n",
       " 'WARWICK',\n",
       " 'ADUR',\n",
       " 'ARUN',\n",
       " 'CHICHESTER',\n",
       " 'CRAWLEY',\n",
       " 'HORSHAM',\n",
       " 'MID SUSSEX',\n",
       " 'WORTHING',\n",
       " 'WILTSHIRE',\n",
       " 'BROMSGROVE',\n",
       " 'MALVERN HILLS',\n",
       " 'REDDITCH',\n",
       " 'WORCESTER',\n",
       " 'WYCHAVON',\n",
       " 'WYRE FOREST',\n",
       " 'ISLE OF ANGLESEY',\n",
       " 'GWYNEDD',\n",
       " 'CONWY',\n",
       " 'DENBIGHSHIRE',\n",
       " 'FLINTSHIRE',\n",
       " 'WREXHAM',\n",
       " 'POWYS',\n",
       " 'CEREDIGION',\n",
       " 'PEMBROKESHIRE',\n",
       " 'CARMARTHENSHIRE',\n",
       " 'SWANSEA',\n",
       " 'NEATH PORT TALBOT',\n",
       " 'BRIDGEND',\n",
       " 'VALE OF GLAMORGAN',\n",
       " 'RHONDDA CYNON TAF',\n",
       " 'MERTHYR TYDFIL',\n",
       " 'CAERPHILLY',\n",
       " 'BLAENAU GWENT',\n",
       " 'TORFAEN',\n",
       " 'MONMOUTHSHIRE',\n",
       " 'NEWPORT',\n",
       " 'CARDIFF']"
      ]
     },
     "execution_count": 102,
     "metadata": {},
     "output_type": "execute_result"
    }
   ],
   "source": [
    "[boro for boro in districts_shape if boro not in survey_boroughs]"
   ]
  },
  {
   "cell_type": "code",
   "execution_count": 99,
   "metadata": {},
   "outputs": [
    {
     "data": {
      "text/plain": [
       "['KINGSTON UPON THAMES',\n",
       " 'CROYDON',\n",
       " 'BROMLEY',\n",
       " 'HOUNSLOW',\n",
       " 'EALING',\n",
       " 'HAVERING',\n",
       " 'HILLINGDON',\n",
       " 'HARROW',\n",
       " 'BRENT',\n",
       " 'BARNET',\n",
       " 'LAMBETH',\n",
       " 'SOUTHWARK',\n",
       " 'LEWISHAM',\n",
       " 'GREENWICH',\n",
       " 'BEXLEY',\n",
       " 'ENFIELD',\n",
       " 'WALTHAM FOREST',\n",
       " 'REDBRIDGE',\n",
       " 'SUTTON',\n",
       " 'RICHMOND UPON THAMES',\n",
       " 'MERTON',\n",
       " 'WANDSWORTH',\n",
       " 'HAMMERSMITH AND FULHAM',\n",
       " 'KENSINGTON AND CHELSEA',\n",
       " 'CITY OF WESTMINSTER',\n",
       " 'CAMDEN',\n",
       " 'TOWER HAMLETS',\n",
       " 'ISLINGTON',\n",
       " 'HACKNEY',\n",
       " 'HARINGEY',\n",
       " 'NEWHAM',\n",
       " 'BARKING AND DAGENHAM',\n",
       " 'CITY AND COUNTY OF THE CITY OF LONDON']"
      ]
     },
     "execution_count": 99,
     "metadata": {},
     "output_type": "execute_result"
    }
   ],
   "source": [
    "ldn_boroughs"
   ]
  },
  {
   "cell_type": "code",
   "execution_count": null,
   "metadata": {},
   "outputs": [],
   "source": []
  }
 ],
 "metadata": {
  "kernelspec": {
   "display_name": "gen_ML",
   "language": "python",
   "name": "python3"
  },
  "language_info": {
   "codemirror_mode": {
    "name": "ipython",
    "version": 3
   },
   "file_extension": ".py",
   "mimetype": "text/x-python",
   "name": "python",
   "nbconvert_exporter": "python",
   "pygments_lexer": "ipython3",
   "version": "3.9.16"
  }
 },
 "nbformat": 4,
 "nbformat_minor": 2
}
